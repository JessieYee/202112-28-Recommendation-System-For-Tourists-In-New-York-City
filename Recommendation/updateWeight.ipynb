{
  "nbformat": 4,
  "nbformat_minor": 0,
  "metadata": {
    "colab": {
      "name": "updateWeight.ipynb",
      "provenance": [],
      "collapsed_sections": []
    },
    "kernelspec": {
      "name": "python3",
      "display_name": "Python 3"
    },
    "language_info": {
      "name": "python"
    }
  },
  "cells": [
    {
      "cell_type": "code",
      "source": [
        "weight1 = {\n",
        "    \"price\":{\"no_require\":1, \"high\": -2,\"low\":2},\n",
        "    \"rating\": {\"no_require\": -1, \"high\": -2},\n",
        "    \"safety\": {\"no_require\":1, \"high\":-2} # all feature in same weight\n",
        "}\n",
        "weight2 = {\n",
        "    \"price\":{\"no_require\":1, \"high\": -2,\"low\":2},\n",
        "    \"rating\": {\"no_require\": -1, \"high\": -2},\n",
        "    \"safety\": {\"no_require\":1, \"high\":-3} # safety play important role in weight function\n",
        "}\n",
        "weight3 = {\n",
        "    \"price\":{\"no_require\":1, \"high\": -3,\"low\":3},\n",
        "    \"rating\": {\"no_require\": -1, \"high\": -2},\n",
        "    \"safety\": {\"no_require\":1, \"high\":-2} # price play important role in weight function\n",
        "}\n",
        "weight4 = {\n",
        "    \"price\":{\"no_require\":1, \"high\": -2,\"low\":2},\n",
        "    \"rating\": {\"no_require\": -1, \"high\": -3},\n",
        "    \"safety\": {\"no_require\":1, \"high\":-2} # rating play important role in weight function\n",
        "}"
      ],
      "metadata": {
        "id": "uLUisDipJL_z"
      },
      "execution_count": null,
      "outputs": []
    },
    {
      "cell_type": "code",
      "source": [
        "# 1: don't like, 0: good\n",
        "# weight 1\n",
        "price_h1 = [0,0,0,0,0,0,0,0,0,0]\n",
        "price_l1 = [0,0,0,0,0,0,0,0,0,0]\n",
        "rating1 = [0,0,1,0,1,1,1,1,0,1,1,0,0,0,1,1,1,1,1,1]\n",
        "safety1 = [0,0,0,0,0,0,0,0,0,0,0,0,1,1,1,1,1,0,1,1]\n",
        "\n",
        "# weight 2\n",
        "price_h2 = [0,0,0,0,0,0,0,1,1,1]\n",
        "price_l2 = [0,0,0,0,0,0,0,1,1,0]\n",
        "rating2 = [0,0,1,0,1,1,0,0,0,0,1,0,0,1,1,1,1,1,1,1]\n",
        "safety2 = [0,0,0,0,0,0,0,0,0,0,0,0,0,0,1,0,1,0,1,1]\n",
        "\n",
        "#weight 3\n",
        "price_h3 = [0,0,0,0,1,0,0,0,0,0]\n",
        "price_l3 = [0,0,0,0,0,0,0,0,0,0]\n",
        "rating3 = [1,0,1,0,0,1,1,0,1,0,0,0,0,0,0,0,1,0,1,0]\n",
        "safety3 = [0,0,1,1,0,1,1,0,1,1,0,0,1,1,1,0,1,0,0,0]\n",
        "\n",
        "#weight 4\n",
        "price_h4 = [1,0,0,0,1,0,1,0,1,1]\n",
        "price_l4 = [0,0,1,0,0,0,1,0,0,0]\n",
        "rating4 = [1,0,0,0,0,1,0,0,0,0,0,0,0,1,0,0,1,0,0,0]\n",
        "safety4 = [0,0,1,0,1,1,0,0,0,1,0,0,1,0,1,0,1,0,1,1]\n",
        "\n",
        "price_h = [price_h1,price_h2,price_h3,price_h4]\n",
        "price_l = [price_l1,price_l2,price_l3,price_l4]\n",
        "rating = [rating1, rating2, rating3, rating4]\n",
        "safety = [safety1, safety2, safety3, safety4]"
      ],
      "metadata": {
        "id": "UUDYFYRif_Wn"
      },
      "execution_count": null,
      "outputs": []
    },
    {
      "cell_type": "code",
      "source": [
        "best_price = [0 for i in range(10)]\n",
        "best_others = [0 for i in range(20)]"
      ],
      "metadata": {
        "id": "Xih8jrk3GBqk"
      },
      "execution_count": null,
      "outputs": []
    },
    {
      "cell_type": "code",
      "source": [
        "import matplotlib.pyplot as plt\n",
        "import numpy as np\n",
        "\n",
        "x = np.arange(4)\n",
        "def countReview(lst):\n",
        "  count0 = []\n",
        "  count1 = []\n",
        "  for l in lst:\n",
        "    count1.append(sum(l))\n",
        "    count0.append(len(l)-count1[-1])\n",
        "  return count0, count1\n"
      ],
      "metadata": {
        "id": "zXqhPGGG4e_n"
      },
      "execution_count": null,
      "outputs": []
    },
    {
      "cell_type": "code",
      "source": [
        "c0,c1 = countReview(price_h)"
      ],
      "metadata": {
        "id": "jEFL1iVZxQy3"
      },
      "execution_count": null,
      "outputs": []
    },
    {
      "cell_type": "code",
      "source": [
        "def reviewChart(lst,title):\n",
        "  y0,y1= countReview(lst)\n",
        "  x = np.arange(4)\n",
        "  plt.figure(figsize=(12,8))\n",
        "  plt.bar(x-0.1, y0, 0.2, color='orange')\n",
        "  plt.bar(x+0.1, y1, 0.2, color='green')\n",
        "  plt.xticks(x,[\"weight1\", \"weight2\", \"weight3\", \"weight4\"])\n",
        "  plt.legend([\"0: satisfied\", \"1: unsatisfied\"])\n",
        "  plt.title(title)\n",
        "  plt.show()"
      ],
      "metadata": {
        "id": "4mEIRSEgzAc3"
      },
      "execution_count": null,
      "outputs": []
    },
    {
      "cell_type": "code",
      "source": [
        "reviewChart(price_h,\"Review for price want high\")"
      ],
      "metadata": {
        "colab": {
          "base_uri": "https://localhost:8080/",
          "height": 497
        },
        "id": "jSy7qri8zWTn",
        "outputId": "e7e55add-ed42-476a-f15e-cc15c1fc24bf"
      },
      "execution_count": null,
      "outputs": [
        {
          "output_type": "display_data",
          "data": {
            "image/png": "[encoded data removed]",
            "text/plain": [
              "<Figure size 864x576 with 1 Axes>"
            ]
          },
          "metadata": {
            "needs_background": "light"
          }
        }
      ]
    },
    {
      "cell_type": "code",
      "source": [
        "reviewChart(price_l,\"Review for price want low\")"
      ],
      "metadata": {
        "colab": {
          "base_uri": "https://localhost:8080/",
          "height": 497
        },
        "id": "yArmFq_UyCSA",
        "outputId": "73d0bddc-01d0-4a8b-cbc1-fd4fdc80a2b5"
      },
      "execution_count": null,
      "outputs": [
        {
          "output_type": "display_data",
          "data": {
            "image/png": "[encoded data removed]",
            "text/plain": [
              "<Figure size 864x576 with 1 Axes>"
            ]
          },
          "metadata": {
            "needs_background": "light"
          }
        }
      ]
    },
    {
      "cell_type": "code",
      "source": [
        "reviewChart(rating,\"Review for rating\")"
      ],
      "metadata": {
        "colab": {
          "base_uri": "https://localhost:8080/",
          "height": 497
        },
        "id": "CacDET7szlRD",
        "outputId": "f66ab6bc-63b0-4862-c36a-d8ec279d89df"
      },
      "execution_count": null,
      "outputs": [
        {
          "output_type": "display_data",
          "data": {
            "image/png": "[encoded data removed]",
            "text/plain": [
              "<Figure size 864x576 with 1 Axes>"
            ]
          },
          "metadata": {
            "needs_background": "light"
          }
        }
      ]
    },
    {
      "cell_type": "code",
      "source": [
        "reviewChart(safety,\"Review for safety\")"
      ],
      "metadata": {
        "colab": {
          "base_uri": "https://localhost:8080/",
          "height": 497
        },
        "id": "7stoE16jzodh",
        "outputId": "935b4506-7b0e-409e-db4a-05e0d9906b95"
      },
      "execution_count": null,
      "outputs": [
        {
          "output_type": "display_data",
          "data": {
            "image/png": "[encoded data removed]",
            "text/plain": [
              "<Figure size 864x576 with 1 Axes>"
            ]
          },
          "metadata": {
            "needs_background": "light"
          }
        }
      ]
    },
    {
      "cell_type": "code",
      "source": [
        "# good: 0/1 >= 3/2\n",
        "# best model: largest good count"
      ],
      "metadata": {
        "id": "GYu8R7ItzrXG"
      },
      "execution_count": null,
      "outputs": []
    },
    {
      "cell_type": "code",
      "source": [
        ""
      ],
      "metadata": {
        "id": "a0cApw5-wXhA"
      },
      "execution_count": null,
      "outputs": []
    }
  ]
}